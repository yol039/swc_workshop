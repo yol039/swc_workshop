{
 "cells": [
  {
   "cell_type": "markdown",
   "metadata": {},
   "source": [
    "# exercise\n",
    "## print the last four charcters of 'Walter Munk'"
   ]
  },
  {
   "cell_type": "code",
   "execution_count": 11,
   "metadata": {},
   "outputs": [],
   "source": [
    "full_name='Walter Munk'"
   ]
  },
  {
   "cell_type": "code",
   "execution_count": 3,
   "metadata": {},
   "outputs": [
    {
     "name": "stdout",
     "output_type": "stream",
     "text": [
      "knuM\n"
     ]
    }
   ],
   "source": [
    "part_name=full_name[-1:-5:-1]\n",
    "print(part_name)"
   ]
  },
  {
   "cell_type": "code",
   "execution_count": 6,
   "metadata": {},
   "outputs": [
    {
     "name": "stdout",
     "output_type": "stream",
     "text": [
      "Munk\n"
     ]
    }
   ],
   "source": [
    "print(full_name[7:11])"
   ]
  },
  {
   "cell_type": "code",
   "execution_count": 4,
   "metadata": {},
   "outputs": [
    {
     "name": "stdout",
     "output_type": "stream",
     "text": [
      "Munk\n"
     ]
    }
   ],
   "source": [
    "print(full_name[7:])"
   ]
  },
  {
   "cell_type": "code",
   "execution_count": 5,
   "metadata": {},
   "outputs": [
    {
     "name": "stdout",
     "output_type": "stream",
     "text": [
      "Munk\n"
     ]
    }
   ],
   "source": [
    "print(full_name[-4:])"
   ]
  },
  {
   "cell_type": "code",
   "execution_count": 8,
   "metadata": {},
   "outputs": [
    {
     "name": "stdout",
     "output_type": "stream",
     "text": [
      "Wke uk\n"
     ]
    }
   ],
   "source": [
    "print(full_name[::2])"
   ]
  },
  {
   "cell_type": "markdown",
   "metadata": {},
   "source": [
    "# reverse the string"
   ]
  },
  {
   "cell_type": "code",
   "execution_count": 7,
   "metadata": {},
   "outputs": [],
   "source": [
    "word ='stressed'"
   ]
  },
  {
   "cell_type": "code",
   "execution_count": 9,
   "metadata": {},
   "outputs": [
    {
     "name": "stdout",
     "output_type": "stream",
     "text": [
      "desserts\n"
     ]
    }
   ],
   "source": [
    "print(word[::-1])"
   ]
  },
  {
   "cell_type": "code",
   "execution_count": 12,
   "metadata": {},
   "outputs": [
    {
     "name": "stdout",
     "output_type": "stream",
     "text": [
      "W\n",
      "a\n",
      "l\n",
      "t\n",
      "e\n",
      "r\n",
      " \n",
      "M\n",
      "u\n",
      "n\n",
      "k\n"
     ]
    }
   ],
   "source": [
    "for char in full_name:\n",
    "    print(char)"
   ]
  },
  {
   "cell_type": "code",
   "execution_count": 13,
   "metadata": {},
   "outputs": [],
   "source": [
    "import numpy"
   ]
  },
  {
   "cell_type": "code",
   "execution_count": 19,
   "metadata": {},
   "outputs": [
    {
     "name": "stdout",
     "output_type": "stream",
     "text": [
      "125\n"
     ]
    }
   ],
   "source": [
    "y=5\n",
    "for i in range(1,3):\n",
    "    y=5*y\n",
    "print(y)"
   ]
  },
  {
   "cell_type": "code",
   "execution_count": 18,
   "metadata": {},
   "outputs": [],
   "source": [
    "range?"
   ]
  },
  {
   "cell_type": "code",
   "execution_count": 24,
   "metadata": {},
   "outputs": [
    {
     "name": "stdout",
     "output_type": "stream",
     "text": [
      "0 1\n",
      "1 3\n",
      "2 6\n",
      "3 10\n",
      "4 15\n",
      "5 21\n",
      "6 28\n",
      "7 36\n",
      "8 45\n",
      "9 55\n"
     ]
    }
   ],
   "source": [
    "total=0\n",
    "for i in range(0,10):\n",
    "    total=total+(i+1)\n",
    "    print(i,total)\n",
    "#print(total)"
   ]
  },
  {
   "cell_type": "code",
   "execution_count": 23,
   "metadata": {},
   "outputs": [],
   "source": [
    "numpy.arange?"
   ]
  },
  {
   "cell_type": "code",
   "execution_count": 26,
   "metadata": {},
   "outputs": [
    {
     "name": "stdout",
     "output_type": "stream",
     "text": [
      "12\n"
     ]
    }
   ],
   "source": [
    "total=0\n",
    "for word in ['red','green','blue']:\n",
    "    total=total+len(word)\n",
    "print(total)"
   ]
  },
  {
   "cell_type": "markdown",
   "metadata": {},
   "source": [
    "# 生成List"
   ]
  },
  {
   "cell_type": "code",
   "execution_count": 27,
   "metadata": {},
   "outputs": [
    {
     "name": "stdout",
     "output_type": "stream",
     "text": [
      "primes are: [1, 3, 5, 7]\n"
     ]
    }
   ],
   "source": [
    "my_list = [1,3,5,7]\n",
    "print('primes are:',my_list)"
   ]
  },
  {
   "cell_type": "code",
   "execution_count": 28,
   "metadata": {},
   "outputs": [
    {
     "name": "stdout",
     "output_type": "stream",
     "text": [
      "<class 'list'>\n"
     ]
    }
   ],
   "source": [
    "print(type(my_list))"
   ]
  },
  {
   "cell_type": "code",
   "execution_count": 29,
   "metadata": {},
   "outputs": [
    {
     "name": "stdout",
     "output_type": "stream",
     "text": [
      "first: 1 last: 7\n"
     ]
    }
   ],
   "source": [
    "print('first:',my_list[0],'last:',my_list[-1])"
   ]
  },
  {
   "cell_type": "code",
   "execution_count": 30,
   "metadata": {},
   "outputs": [
    {
     "name": "stdout",
     "output_type": "stream",
     "text": [
      "1\n",
      "3\n",
      "5\n",
      "7\n"
     ]
    }
   ],
   "source": [
    "for i in my_list:\n",
    "    print(i)"
   ]
  },
  {
   "cell_type": "code",
   "execution_count": 31,
   "metadata": {},
   "outputs": [
    {
     "name": "stdout",
     "output_type": "stream",
     "text": [
      "['Munk', 'Keling', 'Sverdrup']\n"
     ]
    }
   ],
   "source": [
    "oceanographers =['Munk','Keling','Sverdrup']\n",
    "print(oceanographers)"
   ]
  },
  {
   "cell_type": "code",
   "execution_count": 32,
   "metadata": {},
   "outputs": [
    {
     "name": "stdout",
     "output_type": "stream",
     "text": [
      "Keling\n"
     ]
    }
   ],
   "source": [
    "print(oceanographers[1])"
   ]
  },
  {
   "cell_type": "code",
   "execution_count": 33,
   "metadata": {},
   "outputs": [],
   "source": [
    "oceanographers[1]='Keeling'"
   ]
  },
  {
   "cell_type": "code",
   "execution_count": 35,
   "metadata": {},
   "outputs": [
    {
     "name": "stdout",
     "output_type": "stream",
     "text": [
      "oceanographers now are: ['Munk', 'Keeling', 'Sverdrup']\n",
      "Keeling\n"
     ]
    }
   ],
   "source": [
    "print('oceanographers now are:',oceanographers)\n",
    "print(oceanographers[1])"
   ]
  },
  {
   "cell_type": "code",
   "execution_count": 37,
   "metadata": {},
   "outputs": [],
   "source": [
    "name = 'Ralph Keelini'"
   ]
  },
  {
   "cell_type": "code",
   "execution_count": 38,
   "metadata": {},
   "outputs": [
    {
     "name": "stdout",
     "output_type": "stream",
     "text": [
      "i\n"
     ]
    }
   ],
   "source": [
    "print(name[-1])"
   ]
  },
  {
   "cell_type": "code",
   "execution_count": 39,
   "metadata": {},
   "outputs": [
    {
     "ename": "TypeError",
     "evalue": "'str' object does not support item assignment",
     "output_type": "error",
     "traceback": [
      "\u001b[1;31m---------------------------------------------------------------------------\u001b[0m",
      "\u001b[1;31mTypeError\u001b[0m                                 Traceback (most recent call last)",
      "\u001b[1;32m<ipython-input-39-f1bcc912ddcb>\u001b[0m in \u001b[0;36m<module>\u001b[1;34m\u001b[0m\n\u001b[1;32m----> 1\u001b[1;33m \u001b[0mname\u001b[0m\u001b[1;33m[\u001b[0m\u001b[1;33m-\u001b[0m\u001b[1;36m1\u001b[0m\u001b[1;33m]\u001b[0m\u001b[1;33m=\u001b[0m\u001b[1;34m'g'\u001b[0m\u001b[1;33m\u001b[0m\u001b[1;33m\u001b[0m\u001b[0m\n\u001b[0m",
      "\u001b[1;31mTypeError\u001b[0m: 'str' object does not support item assignment"
     ]
    }
   ],
   "source": [
    "name[-1]='g'"
   ]
  },
  {
   "cell_type": "code",
   "execution_count": 41,
   "metadata": {},
   "outputs": [
    {
     "name": "stdout",
     "output_type": "stream",
     "text": [
      "name was Ralph Keeling\n",
      "name now is Ralph Keeling\n"
     ]
    }
   ],
   "source": [
    "print('name was',name)\n",
    "name='Ralph Keeling'\n",
    "print('name now is',name)"
   ]
  },
  {
   "cell_type": "code",
   "execution_count": 42,
   "metadata": {},
   "outputs": [],
   "source": [
    "# I am a comment\n",
    "# You can change a whole str, not the single character in the str"
   ]
  },
  {
   "cell_type": "code",
   "execution_count": 43,
   "metadata": {},
   "outputs": [],
   "source": [
    "grades = ['SIO221A',9.9,'SIO217B',7.5,'SIO211A',8]"
   ]
  },
  {
   "cell_type": "code",
   "execution_count": 44,
   "metadata": {},
   "outputs": [
    {
     "name": "stdout",
     "output_type": "stream",
     "text": [
      "['SIO221A', 9.9, 'SIO217B', 7.5, 'SIO211A', 8]\n"
     ]
    }
   ],
   "source": [
    "print(grades)"
   ]
  },
  {
   "cell_type": "code",
   "execution_count": 45,
   "metadata": {},
   "outputs": [],
   "source": [
    "# I am a comment\n",
    "# You can have whatever you want in a list"
   ]
  },
  {
   "cell_type": "code",
   "execution_count": 46,
   "metadata": {},
   "outputs": [
    {
     "ename": "AttributeError",
     "evalue": "'str' object has no attribute 'dtype'",
     "output_type": "error",
     "traceback": [
      "\u001b[1;31m---------------------------------------------------------------------------\u001b[0m",
      "\u001b[1;31mAttributeError\u001b[0m                            Traceback (most recent call last)",
      "\u001b[1;32m<ipython-input-46-2bfd5c671d5e>\u001b[0m in \u001b[0;36m<module>\u001b[1;34m\u001b[0m\n\u001b[1;32m----> 1\u001b[1;33m \u001b[0mprint\u001b[0m\u001b[1;33m(\u001b[0m\u001b[0mgrades\u001b[0m\u001b[1;33m[\u001b[0m\u001b[1;36m0\u001b[0m\u001b[1;33m]\u001b[0m\u001b[1;33m.\u001b[0m\u001b[0mdtype\u001b[0m\u001b[1;33m)\u001b[0m\u001b[1;33m\u001b[0m\u001b[1;33m\u001b[0m\u001b[0m\n\u001b[0m",
      "\u001b[1;31mAttributeError\u001b[0m: 'str' object has no attribute 'dtype'"
     ]
    }
   ],
   "source": [
    "print(grades[0].dtype)"
   ]
  },
  {
   "cell_type": "code",
   "execution_count": 47,
   "metadata": {},
   "outputs": [
    {
     "name": "stdout",
     "output_type": "stream",
     "text": [
      "['pepper', 'onion', 'jalapenos', 'tomatos']\n"
     ]
    }
   ],
   "source": [
    "salsa =['pepper','onion','jalapenos','tomatos']\n",
    "print(salsa)"
   ]
  },
  {
   "cell_type": "code",
   "execution_count": 48,
   "metadata": {},
   "outputs": [
    {
     "name": "stdout",
     "output_type": "stream",
     "text": [
      "['pepper', 'onion', 'jalapenos', 'tomatos']\n"
     ]
    }
   ],
   "source": [
    "lukes_salsa = salsa\n",
    "print(lukes_salsa)"
   ]
  },
  {
   "cell_type": "code",
   "execution_count": 50,
   "metadata": {},
   "outputs": [
    {
     "name": "stdout",
     "output_type": "stream",
     "text": [
      "['pepper', 'onion', 'cilantro', 'tomatos']\n",
      "['pepper', 'onion', 'cilantro', 'tomatos']\n",
      "['pepper', 'onion', 'cilantro', 'tomatos']\n",
      "['pepper', 'onion', 'cilantro', 'tomatos']\n"
     ]
    }
   ],
   "source": [
    "print(salsa)\n",
    "print(lukes_salsa)\n",
    "\n",
    "lukes_salsa[2]='cilantro'\n",
    "print(salsa)\n",
    "print(lukes_salsa)"
   ]
  },
  {
   "cell_type": "code",
   "execution_count": 51,
   "metadata": {},
   "outputs": [],
   "source": [
    "# I am a comment\n",
    "# list B = list A means that list B always points to list A"
   ]
  },
  {
   "cell_type": "code",
   "execution_count": 52,
   "metadata": {},
   "outputs": [
    {
     "name": "stdout",
     "output_type": "stream",
     "text": [
      "['pepper', 'onion', 'jalapenos', 'tomatos']\n",
      "['pepper', 'onion', 'cilantro', 'tomatos']\n"
     ]
    }
   ],
   "source": [
    "my_salsa =['pepper','onion','jalapenos','tomatos']\n",
    "lukes_salsa = list(my_salsa)\n",
    "\n",
    "lukes_salsa[2]='cilantro'\n",
    "print(my_salsa)\n",
    "print(lukes_salsa)"
   ]
  },
  {
   "cell_type": "code",
   "execution_count": 53,
   "metadata": {},
   "outputs": [],
   "source": [
    "# I am a comment\n",
    "# List B = list(List A) means list B is a copy of list A"
   ]
  },
  {
   "cell_type": "code",
   "execution_count": 54,
   "metadata": {},
   "outputs": [
    {
     "name": "stdout",
     "output_type": "stream",
     "text": [
      "[['density', 'CTD'], ['velocity', 'ADCP'], ['chlorophyll', 'fluorometer']]\n"
     ]
    }
   ],
   "source": [
    "cruise = [['density','CTD'],['velocity','ADCP'],['chlorophyll','fluorometer']]\n",
    "print(cruise)"
   ]
  },
  {
   "cell_type": "code",
   "execution_count": 55,
   "metadata": {},
   "outputs": [],
   "source": [
    "# I am a comment\n",
    "# You can have whatever you want in a list, including numbers, strings, and other lists"
   ]
  },
  {
   "cell_type": "code",
   "execution_count": 56,
   "metadata": {},
   "outputs": [
    {
     "name": "stdout",
     "output_type": "stream",
     "text": [
      "['density', 'CTD']\n"
     ]
    }
   ],
   "source": [
    "print(cruise[0])"
   ]
  },
  {
   "cell_type": "code",
   "execution_count": 61,
   "metadata": {},
   "outputs": [
    {
     "name": "stdout",
     "output_type": "stream",
     "text": [
      "density\n"
     ]
    }
   ],
   "source": [
    "print(cruise[0][0])"
   ]
  },
  {
   "cell_type": "code",
   "execution_count": 62,
   "metadata": {},
   "outputs": [
    {
     "name": "stdout",
     "output_type": "stream",
     "text": [
      "fluorometer\n"
     ]
    }
   ],
   "source": [
    "print(cruise[-1][-1])"
   ]
  },
  {
   "cell_type": "code",
   "execution_count": 63,
   "metadata": {},
   "outputs": [
    {
     "name": "stdout",
     "output_type": "stream",
     "text": [
      "fluorometer\n"
     ]
    }
   ],
   "source": [
    "print(cruise[2][1])"
   ]
  },
  {
   "cell_type": "code",
   "execution_count": 57,
   "metadata": {},
   "outputs": [
    {
     "ename": "TypeError",
     "evalue": "list indices must be integers or slices, not tuple",
     "output_type": "error",
     "traceback": [
      "\u001b[1;31m---------------------------------------------------------------------------\u001b[0m",
      "\u001b[1;31mTypeError\u001b[0m                                 Traceback (most recent call last)",
      "\u001b[1;32m<ipython-input-57-df56c87c8060>\u001b[0m in \u001b[0;36m<module>\u001b[1;34m\u001b[0m\n\u001b[1;32m----> 1\u001b[1;33m \u001b[0mprint\u001b[0m\u001b[1;33m(\u001b[0m\u001b[0mcruise\u001b[0m\u001b[1;33m[\u001b[0m\u001b[1;36m0\u001b[0m\u001b[1;33m,\u001b[0m\u001b[1;36m1\u001b[0m\u001b[1;33m]\u001b[0m\u001b[1;33m)\u001b[0m\u001b[1;33m\u001b[0m\u001b[1;33m\u001b[0m\u001b[0m\n\u001b[0m",
      "\u001b[1;31mTypeError\u001b[0m: list indices must be integers or slices, not tuple"
     ]
    }
   ],
   "source": [
    "print(cruise[0,1])"
   ]
  },
  {
   "cell_type": "code",
   "execution_count": 60,
   "metadata": {},
   "outputs": [
    {
     "name": "stdout",
     "output_type": "stream",
     "text": [
      "[['velocity', 'ADCP']]\n"
     ]
    }
   ],
   "source": [
    "print(cruise[1:2])"
   ]
  },
  {
   "cell_type": "code",
   "execution_count": 64,
   "metadata": {},
   "outputs": [
    {
     "name": "stdout",
     "output_type": "stream",
     "text": [
      "[['density', 'CTD'], ['velocity', 'ADCP'], ['chlorophyll', 'fluorometer'], ['salinity', 'CTD']]\n"
     ]
    }
   ],
   "source": [
    "cruise.append(['salinity','CTD'])\n",
    "print(cruise)"
   ]
  },
  {
   "cell_type": "code",
   "execution_count": 65,
   "metadata": {},
   "outputs": [
    {
     "name": "stdout",
     "output_type": "stream",
     "text": [
      "[['density', 'CTD'], ['velocity', 'ADCP'], ['chlorophyll', 'fluorometer'], ['salinity', 'CTD'], ['density', 'CTD'], ['velocity', 'ADCP'], ['chlorophyll', 'fluorometer'], ['salinity', 'CTD']]\n"
     ]
    }
   ],
   "source": [
    "print(2*cruise)"
   ]
  },
  {
   "cell_type": "code",
   "execution_count": 66,
   "metadata": {},
   "outputs": [],
   "source": [
    "# I am a comment\n",
    "# 2* list A means a duplication of list A"
   ]
  },
  {
   "cell_type": "code",
   "execution_count": 67,
   "metadata": {},
   "outputs": [
    {
     "name": "stdout",
     "output_type": "stream",
     "text": [
      "[['density', 'CTD'], ['velocity', 'ADCP'], ['chlorophyll', 'fluorometer'], ['salinity', 'CTD'], ['density', 'CTD'], ['velocity', 'ADCP'], ['chlorophyll', 'fluorometer'], ['salinity', 'CTD']]\n"
     ]
    }
   ],
   "source": [
    "print(cruise+cruise)"
   ]
  },
  {
   "cell_type": "code",
   "execution_count": 68,
   "metadata": {},
   "outputs": [
    {
     "name": "stdout",
     "output_type": "stream",
     "text": [
      "[['density', 'CTD'], ['velocity', 'ADCP'], ['chlorophyll', 'fluorometer'], ['salinity', 'CTD'], 'temperature', 'CTD']\n"
     ]
    }
   ],
   "source": [
    "print(cruise+['temperature','CTD'])"
   ]
  },
  {
   "cell_type": "code",
   "execution_count": 69,
   "metadata": {},
   "outputs": [],
   "source": [
    "odds = [1,3]"
   ]
  },
  {
   "cell_type": "code",
   "execution_count": 70,
   "metadata": {},
   "outputs": [
    {
     "name": "stdout",
     "output_type": "stream",
     "text": [
      "[1, 3]\n"
     ]
    }
   ],
   "source": [
    "print(odds)"
   ]
  },
  {
   "cell_type": "code",
   "execution_count": 71,
   "metadata": {},
   "outputs": [
    {
     "ename": "TypeError",
     "evalue": "can only concatenate list (not \"int\") to list",
     "output_type": "error",
     "traceback": [
      "\u001b[1;31m---------------------------------------------------------------------------\u001b[0m",
      "\u001b[1;31mTypeError\u001b[0m                                 Traceback (most recent call last)",
      "\u001b[1;32m<ipython-input-71-fefa00d4f874>\u001b[0m in \u001b[0;36m<module>\u001b[1;34m\u001b[0m\n\u001b[1;32m----> 1\u001b[1;33m \u001b[0mprint\u001b[0m\u001b[1;33m(\u001b[0m\u001b[0modds\u001b[0m\u001b[1;33m+\u001b[0m\u001b[1;36m5\u001b[0m\u001b[1;33m)\u001b[0m\u001b[1;33m\u001b[0m\u001b[1;33m\u001b[0m\u001b[0m\n\u001b[0m",
      "\u001b[1;31mTypeError\u001b[0m: can only concatenate list (not \"int\") to list"
     ]
    }
   ],
   "source": [
    "print(odds+5)"
   ]
  },
  {
   "cell_type": "code",
   "execution_count": 72,
   "metadata": {},
   "outputs": [
    {
     "name": "stdout",
     "output_type": "stream",
     "text": [
      "[1, 3, 5]\n"
     ]
    }
   ],
   "source": [
    "print(odds+[5])"
   ]
  },
  {
   "cell_type": "code",
   "execution_count": 75,
   "metadata": {},
   "outputs": [
    {
     "name": "stdout",
     "output_type": "stream",
     "text": [
      "None\n"
     ]
    }
   ],
   "source": [
    "print(odds.append(5))"
   ]
  },
  {
   "cell_type": "code",
   "execution_count": 74,
   "metadata": {},
   "outputs": [
    {
     "name": "stdout",
     "output_type": "stream",
     "text": [
      "odds before was: [1, 3, 5]\n",
      "odds after was: [1, 3, 5, 5]\n"
     ]
    }
   ],
   "source": [
    "print('odds before was:',odds)\n",
    "odds.append(5)\n",
    "print('odds after was:',odds)"
   ]
  },
  {
   "cell_type": "code",
   "execution_count": 76,
   "metadata": {},
   "outputs": [
    {
     "name": "stdout",
     "output_type": "stream",
     "text": [
      "[5, 5, 5, 3, 1]\n"
     ]
    }
   ],
   "source": [
    "print(odds[::-1])"
   ]
  },
  {
   "cell_type": "code",
   "execution_count": 77,
   "metadata": {},
   "outputs": [
    {
     "name": "stdout",
     "output_type": "stream",
     "text": [
      "[1, 3, 5, 5, 5]\n",
      "[5, 5, 5, 3, 1]\n"
     ]
    }
   ],
   "source": [
    "print(odds)\n",
    "odds.reverse()\n",
    "print(odds)"
   ]
  },
  {
   "cell_type": "code",
   "execution_count": 92,
   "metadata": {},
   "outputs": [],
   "source": [
    "my_list=[];"
   ]
  },
  {
   "cell_type": "code",
   "execution_count": 93,
   "metadata": {},
   "outputs": [
    {
     "name": "stdout",
     "output_type": "stream",
     "text": [
      "['s']\n",
      "['s', 'u']\n",
      "['s', 'u', 'r']\n",
      "['s', 'u', 'r', 'f']\n"
     ]
    }
   ],
   "source": [
    "for char in 'surf':\n",
    "    # my_list=list(char)\n",
    "    my_list=my_list+[char]\n",
    "    print(my_list)"
   ]
  },
  {
   "cell_type": "code",
   "execution_count": null,
   "metadata": {},
   "outputs": [],
   "source": [
    "# I am a comment\n",
    "# to make a char into a list, use [char]"
   ]
  },
  {
   "cell_type": "code",
   "execution_count": 94,
   "metadata": {},
   "outputs": [
    {
     "name": "stdout",
     "output_type": "stream",
     "text": [
      "[['s'], ['u'], ['r'], ['f']]\n"
     ]
    }
   ],
   "source": [
    "word='surf'\n",
    "word_list=[]\n",
    "for char in word:\n",
    "    word_list.append([char])\n",
    "print(word_list)"
   ]
  },
  {
   "cell_type": "code",
   "execution_count": 96,
   "metadata": {},
   "outputs": [
    {
     "name": "stdout",
     "output_type": "stream",
     "text": [
      "['s', 'u', 'r', 'f']\n"
     ]
    }
   ],
   "source": [
    "word='surf'\n",
    "word_list=[]\n",
    "for char in word:\n",
    "    word_list.append(char)\n",
    "print(word_list)"
   ]
  },
  {
   "cell_type": "code",
   "execution_count": 97,
   "metadata": {},
   "outputs": [
    {
     "name": "stdout",
     "output_type": "stream",
     "text": [
      "['Tatoonie', 'Naboo', 'Aeakis', 'Jupiter', 'Alderan']\n"
     ]
    }
   ],
   "source": [
    "planets=['Tatoonie','Naboo','Aeakis','Jupiter','Alderan']\n",
    "print(planets)"
   ]
  },
  {
   "cell_type": "code",
   "execution_count": 102,
   "metadata": {},
   "outputs": [
    {
     "name": "stdout",
     "output_type": "stream",
     "text": [
      "['Tatoonie', 'Naboo']\n"
     ]
    }
   ],
   "source": [
    "star_wars_planets=planets[0:2]\n",
    "print(star_wars_planets)"
   ]
  },
  {
   "cell_type": "code",
   "execution_count": 104,
   "metadata": {},
   "outputs": [],
   "source": [
    "string_for_slicing = 'Observation date: 02-Feb-2013'\n",
    "list_for_slicing = [['fluorine','F'], ['chlorine','Cl'], ['bromine','Br'], ['iodine', 'I'], \n",
    "                    ['astatine', 'At']]\n"
   ]
  },
  {
   "cell_type": "code",
   "execution_count": 105,
   "metadata": {},
   "outputs": [
    {
     "name": "stdout",
     "output_type": "stream",
     "text": [
      "2013\n"
     ]
    }
   ],
   "source": [
    "print(string_for_slicing[-4::1])"
   ]
  },
  {
   "cell_type": "code",
   "execution_count": 106,
   "metadata": {},
   "outputs": [
    {
     "name": "stdout",
     "output_type": "stream",
     "text": [
      "[['chlorine', 'Cl'], ['bromine', 'Br'], ['iodine', 'I'], ['astatine', 'At']]\n"
     ]
    }
   ],
   "source": [
    "print(list_for_slicing[1:])"
   ]
  },
  {
   "cell_type": "code",
   "execution_count": 109,
   "metadata": {},
   "outputs": [],
   "source": [
    "beatles = \"In an octopus's garden in the shade\""
   ]
  },
  {
   "cell_type": "code",
   "execution_count": 110,
   "metadata": {},
   "outputs": [
    {
     "name": "stdout",
     "output_type": "stream",
     "text": [
      "I notpssgre ntesae\n"
     ]
    }
   ],
   "source": [
    "print(beatles[::2])"
   ]
  },
  {
   "cell_type": "markdown",
   "metadata": {},
   "source": [
    "## exercise"
   ]
  },
  {
   "cell_type": "code",
   "execution_count": 6,
   "metadata": {},
   "outputs": [],
   "source": [
    "friend_list=[['linear algebra','A'],['philosophy','B-'],['fluid dunamics','A+'],['history','A-']]"
   ]
  },
  {
   "cell_type": "code",
   "execution_count": 7,
   "metadata": {},
   "outputs": [
    {
     "name": "stdout",
     "output_type": "stream",
     "text": [
      "[['linear algebra', 'A'], ['philosophy', 'B-'], ['fluid dunamics', 'A+'], ['history', 'A-']]\n"
     ]
    }
   ],
   "source": [
    "my_list=list(friend_list)\n",
    "print(my_list)"
   ]
  },
  {
   "cell_type": "code",
   "execution_count": 8,
   "metadata": {},
   "outputs": [
    {
     "name": "stdout",
     "output_type": "stream",
     "text": [
      "[['linear algebra', 'A-'], ['philosophy', 'B-'], ['fluid dunamics', 'A+'], ['history', 'A-']]\n",
      "[['linear algebra', 'A-'], ['philosophy', 'B-'], ['fluid dunamics', 'A+'], ['history', 'A-']]\n"
     ]
    }
   ],
   "source": [
    "my_list[0][1]='A-'\n",
    "print(friend_list)\n",
    "print(my_list)"
   ]
  },
  {
   "cell_type": "code",
   "execution_count": 12,
   "metadata": {},
   "outputs": [
    {
     "name": "stdout",
     "output_type": "stream",
     "text": [
      "['linear algebra', 'philosophy', 'fluid dunamics', 'history']\n",
      "['A-', 'B-', 'A+', 'A-']\n"
     ]
    }
   ],
   "source": [
    "class_list=[]\n",
    "grade_list=[]\n",
    "for i in range(0,4,1):\n",
    "    class_list.append(friend_list[i][0])\n",
    "    grade_list.append(friend_list[i][1])\n",
    "print(class_list)\n",
    "print(grade_list)"
   ]
  },
  {
   "cell_type": "code",
   "execution_count": 13,
   "metadata": {},
   "outputs": [
    {
     "name": "stdout",
     "output_type": "stream",
     "text": [
      "linear algebra A-\n",
      "philosophy B-\n",
      "fluid dunamics A+\n",
      "history A-\n",
      "['linear algebra', 'philosophy', 'fluid dunamics', 'history']\n",
      "['A-', 'B-', 'A+', 'A-']\n"
     ]
    }
   ],
   "source": [
    "class_list=[]\n",
    "grade_list=[]\n",
    "for item in friend_list:\n",
    "    #print(item)\n",
    "    print(item[0],item[1])\n",
    "    grade_list.append(item[1])\n",
    "    class_list.append(item[0])\n",
    "print(class_list)\n",
    "print(grade_list)\n"
   ]
  },
  {
   "cell_type": "code",
   "execution_count": null,
   "metadata": {},
   "outputs": [],
   "source": []
  },
  {
   "cell_type": "code",
   "execution_count": null,
   "metadata": {},
   "outputs": [],
   "source": []
  },
  {
   "cell_type": "code",
   "execution_count": null,
   "metadata": {},
   "outputs": [],
   "source": []
  },
  {
   "cell_type": "code",
   "execution_count": null,
   "metadata": {},
   "outputs": [],
   "source": []
  },
  {
   "cell_type": "code",
   "execution_count": 14,
   "metadata": {},
   "outputs": [],
   "source": [
    "my_variables =5"
   ]
  },
  {
   "cell_type": "code",
   "execution_count": 15,
   "metadata": {},
   "outputs": [
    {
     "name": "stdout",
     "output_type": "stream",
     "text": [
      "False\n"
     ]
    }
   ],
   "source": [
    "print(5==4)"
   ]
  },
  {
   "cell_type": "code",
   "execution_count": 16,
   "metadata": {},
   "outputs": [
    {
     "name": "stdout",
     "output_type": "stream",
     "text": [
      "<class 'bool'>\n"
     ]
    }
   ],
   "source": [
    "print(type(5==4))"
   ]
  },
  {
   "cell_type": "code",
   "execution_count": 17,
   "metadata": {},
   "outputs": [
    {
     "name": "stdout",
     "output_type": "stream",
     "text": [
      "True\n"
     ]
    }
   ],
   "source": [
    "print(5==5)"
   ]
  },
  {
   "cell_type": "code",
   "execution_count": 18,
   "metadata": {},
   "outputs": [
    {
     "name": "stdout",
     "output_type": "stream",
     "text": [
      "<class 'bool'>\n"
     ]
    }
   ],
   "source": [
    "print(type(5==5))"
   ]
  },
  {
   "cell_type": "code",
   "execution_count": 20,
   "metadata": {},
   "outputs": [
    {
     "name": "stdout",
     "output_type": "stream",
     "text": [
      "3.54 is large\n"
     ]
    }
   ],
   "source": [
    "mass= 3.54\n",
    "if mass > 3.0:\n",
    "    print(mass,'is large')"
   ]
  },
  {
   "cell_type": "code",
   "execution_count": 21,
   "metadata": {},
   "outputs": [],
   "source": [
    "mass=2.1\n",
    "if mass>3.0:\n",
    "    print(mass,'is large')"
   ]
  },
  {
   "cell_type": "code",
   "execution_count": 22,
   "metadata": {},
   "outputs": [
    {
     "name": "stdout",
     "output_type": "stream",
     "text": [
      "False\n"
     ]
    }
   ],
   "source": [
    "mass=2.1\n",
    "print(mass>3.0)"
   ]
  },
  {
   "cell_type": "code",
   "execution_count": 23,
   "metadata": {},
   "outputs": [
    {
     "name": "stdout",
     "output_type": "stream",
     "text": [
      "2.1 is not grearter\n"
     ]
    }
   ],
   "source": [
    "num=37\n",
    "if num>100:\n",
    "    print(mass,'is greater')\n",
    "else:\n",
    "    print(mass,'is not grearter')\n",
    "        "
   ]
  },
  {
   "cell_type": "code",
   "execution_count": 24,
   "metadata": {},
   "outputs": [
    {
     "name": "stdout",
     "output_type": "stream",
     "text": [
      "3.01 is large\n"
     ]
    }
   ],
   "source": [
    "mass=3.01\n",
    "if mass >3.0:\n",
    "    print(mass,'is large')\n",
    "elif mass==3.0:\n",
    "    print(mass,'is equal')\n",
    "else:\n",
    "    print(mass,'is less')\n"
   ]
  },
  {
   "cell_type": "code",
   "execution_count": 25,
   "metadata": {},
   "outputs": [
    {
     "name": "stdout",
     "output_type": "stream",
     "text": [
      "3.54 is large\n",
      "2.07 is small\n",
      "9.22 is HUGE\n",
      "1.86 is small\n",
      "1.71 is small\n"
     ]
    }
   ],
   "source": [
    "masses=[3.54,2.07,9.22,1.86,1.71]\n",
    "for m in masses:\n",
    "    if m>9.0:\n",
    "        print(m,'is HUGE')\n",
    "    elif m>3:\n",
    "        print(m,'is large')\n",
    "    else:\n",
    "        print(m,'is small')\n",
    "    "
   ]
  },
  {
   "cell_type": "code",
   "execution_count": 26,
   "metadata": {},
   "outputs": [
    {
     "name": "stdout",
     "output_type": "stream",
     "text": [
      "grade is C\n"
     ]
    }
   ],
   "source": [
    "grade =85\n",
    "if grade >= 70:\n",
    "    print('grade is C')\n",
    "elif grade >=80:\n",
    "    print('grade is B')\n",
    "elif grade>=90:\n",
    "    print('grade is A')"
   ]
  },
  {
   "cell_type": "code",
   "execution_count": 28,
   "metadata": {},
   "outputs": [
    {
     "name": "stdout",
     "output_type": "stream",
     "text": [
      "grade is B\n"
     ]
    }
   ],
   "source": [
    "grade =85\n",
    "if grade >= 90:\n",
    "    print('grade is A')\n",
    "elif grade >=80:\n",
    "    print('grade is B')\n",
    "elif grade>=70:\n",
    "    print('grade is C')"
   ]
  },
  {
   "cell_type": "code",
   "execution_count": 29,
   "metadata": {},
   "outputs": [],
   "source": [
    "import numpy as np\n",
    "import matplotlib.pyplot as plt\n",
    "import glob"
   ]
  },
  {
   "cell_type": "code",
   "execution_count": 33,
   "metadata": {},
   "outputs": [
    {
     "name": "stdout",
     "output_type": "stream",
     "text": [
      "['../data\\\\chlorophyll-01.csv', '../data\\\\chlorophyll-02.csv', '../data\\\\chlorophyll-03.csv', '../data\\\\chlorophyll-04.csv', '../data\\\\chlorophyll-05.csv', '../data\\\\chlorophyll-06.csv', '../data\\\\chlorophyll-07.csv', '../data\\\\chlorophyll-08.csv', '../data\\\\chlorophyll-09.csv', '../data\\\\chlorophyll-10.csv', '../data\\\\chlorophyll-11.csv', '../data\\\\chlorophyll-12.csv']\n"
     ]
    }
   ],
   "source": [
    "files=sorted(glob.glob('../data/chlorophyll-*.csv'))\n",
    "print(files)\n",
    "# data = np.loadtxt('../data/chlorophyll-01.csv',delimiter=',')"
   ]
  },
  {
   "cell_type": "code",
   "execution_count": 46,
   "metadata": {},
   "outputs": [
    {
     "name": "stdout",
     "output_type": "stream",
     "text": [
      "../data\\chlorophyll-01.csv looks ok\n",
      "../data\\chlorophyll-02.csv has a problem: negative mean\n",
      "../data\\chlorophyll-03.csv looks ok\n",
      "../data\\chlorophyll-04.csv looks ok\n",
      "../data\\chlorophyll-05.csv looks ok\n",
      "../data\\chlorophyll-06.csv looks ok\n",
      "../data\\chlorophyll-07.csv looks ok\n",
      "../data\\chlorophyll-08.csv looks ok\n",
      "../data\\chlorophyll-09.csv looks ok\n",
      "../data\\chlorophyll-10.csv looks ok\n",
      "../data\\chlorophyll-11.csv looks ok\n",
      "../data\\chlorophyll-12.csv looks ok\n"
     ]
    },
    {
     "data": {
      "image/png": "[encoded data removed]",
      "text/plain": [
       "<Figure size 432x576 with 1 Axes>"
      ]
     },
     "metadata": {
      "needs_background": "light"
     },
     "output_type": "display_data"
    },
    {
     "data": {
      "image/png": "[encoded data removed]",
      "text/plain": [
       "<Figure size 432x576 with 1 Axes>"
      ]
     },
     "metadata": {
      "needs_background": "light"
     },
     "output_type": "display_data"
    },
    {
     "data": {
      "image/png": "[encoded data removed]",
      "text/plain": [
       "<Figure size 432x576 with 1 Axes>"
      ]
     },
     "metadata": {
      "needs_background": "light"
     },
     "output_type": "display_data"
    },
    {
     "data": {
      "image/png": "[encoded data removed]",
      "text/plain": [
       "<Figure size 432x576 with 1 Axes>"
      ]
     },
     "metadata": {
      "needs_background": "light"
     },
     "output_type": "display_data"
    },
    {
     "data": {
      "image/png": "[encoded data removed]",
      "text/plain": [
       "<Figure size 432x576 with 1 Axes>"
      ]
     },
     "metadata": {
      "needs_background": "light"
     },
     "output_type": "display_data"
    },
    {
     "data": {
      "image/png": "[encoded data removed]",
      "text/plain": [
       "<Figure size 432x576 with 1 Axes>"
      ]
     },
     "metadata": {
      "needs_background": "light"
     },
     "output_type": "display_data"
    },
    {
     "data": {
      "image/png": "[encoded data removed]",
      "text/plain": [
       "<Figure size 432x576 with 1 Axes>"
      ]
     },
     "metadata": {
      "needs_background": "light"
     },
     "output_type": "display_data"
    },
    {
     "data": {
      "image/png": "[encoded data removed]",
      "text/plain": [
       "<Figure size 432x576 with 1 Axes>"
      ]
     },
     "metadata": {
      "needs_background": "light"
     },
     "output_type": "display_data"
    },
    {
     "data": {
      "image/png": "[encoded data removed]",
      "text/plain": [
       "<Figure size 432x576 with 1 Axes>"
      ]
     },
     "metadata": {
      "needs_background": "light"
     },
     "output_type": "display_data"
    },
    {
     "data": {
      "image/png": "[encoded data removed]",
      "text/plain": [
       "<Figure size 432x576 with 1 Axes>"
      ]
     },
     "metadata": {
      "needs_background": "light"
     },
     "output_type": "display_data"
    },
    {
     "data": {
      "image/png": "[encoded data removed]",
      "text/plain": [
       "<Figure size 432x576 with 1 Axes>"
      ]
     },
     "metadata": {
      "needs_background": "light"
     },
     "output_type": "display_data"
    },
    {
     "data": {
      "image/png": "[encoded data removed]",
      "text/plain": [
       "<Figure size 432x576 with 1 Axes>"
      ]
     },
     "metadata": {
      "needs_background": "light"
     },
     "output_type": "display_data"
    }
   ],
   "source": [
    "for f in files[:]:\n",
    "    data = np.loadtxt(f,delimiter=',')\n",
    "    mean_data=np.mean(data)\n",
    "    if mean_data < 0:\n",
    "        print(f,'has a problem: negative mean')\n",
    "    else:\n",
    "        print(f,'looks ok')\n",
    "    \n",
    "     # print(i)\n",
    "    ave_profile = np.mean(data,axis=0)\n",
    "    fig=plt.figure(figsize=(6,8))\n",
    "    ax=fig.add_subplot(1,1,1)\n",
    "    ax.plot(ave_profile)\n",
    "    # print(np.mean(data))\n",
    "    \n"
   ]
  },
  {
   "cell_type": "code",
   "execution_count": 86,
   "metadata": {},
   "outputs": [
    {
     "data": {
      "text/plain": [
       "Text(0.5, 1.0, 'Mean profile cross all missions')"
      ]
     },
     "execution_count": 86,
     "metadata": {},
     "output_type": "execute_result"
    },
    {
     "data": {
      "image/png": "[encoded data removed]",
      "text/plain": [
       "<Figure size 432x576 with 1 Axes>"
      ]
     },
     "metadata": {
      "needs_background": "light"
     },
     "output_type": "display_data"
    }
   ],
   "source": [
    "all_means=[]  # create an empty list to collect the profiles\n",
    "# depth = range(10,310,10)\n",
    "depth =np.arange(10,310,10)\n",
    "\n",
    "files=sorted(glob.glob('../data/chlorophyll-*.csv'))\n",
    "for f in files:\n",
    "    data = np.loadtxt(f,delimiter=',')\n",
    "    ave_profile= np.mean(data,axis=0) # avearage profile for a single mission\n",
    "    \n",
    "    mean_data=np.mean(data) # overall mean of a specific mission\n",
    "    if mean_data >0: # the chlorophyll concentration has to be positive\n",
    "        all_means.append(ave_profile) # if mean is positive, then append\n",
    "\n",
    "mean_profile=np.array(all_means)\n",
    "# print(type(mean_profile))\n",
    "# print(type(all_means))\n",
    "fig=plt.figure(figsize=(6,8))\n",
    "ax =fig.add_subplot(1,1,1)\n",
    "ax.plot(np.mean(mean_profile,axis=0),depth)\n",
    "ax.set_ylabel('Depth[m]',fontsize=14)\n",
    "ax.set_xlabel('Chl[mg/m^3]',fontsize=14)\n",
    "ax.set_title('Mean profile cross all missions',fontsize=16)"
   ]
  },
  {
   "cell_type": "code",
   "execution_count": 60,
   "metadata": {},
   "outputs": [
    {
     "name": "stdout",
     "output_type": "stream",
     "text": [
      "11\n",
      "(11, 30)\n"
     ]
    }
   ],
   "source": [
    "print(len(all_means))\n",
    "print(np.shape(all_means))"
   ]
  },
  {
   "cell_type": "code",
   "execution_count": 61,
   "metadata": {},
   "outputs": [
    {
     "name": "stdout",
     "output_type": "stream",
     "text": [
      "[0.40166667 0.58833333 0.685      0.755      0.69166667 0.52333333\n",
      " 0.41833333 0.34       0.29333333 0.24666667 0.20333333 0.15833333\n",
      " 0.14166667 0.12833333 0.11666667 0.10166667 0.1        0.09833333\n",
      " 0.09833333 0.09833333 0.09833333 0.09833333 0.105      0.105\n",
      " 0.1        0.1        0.10333333 0.10333333 0.10333333 0.10833333]\n"
     ]
    }
   ],
   "source": [
    "print(all_means[0]) "
   ]
  },
  {
   "cell_type": "code",
   "execution_count": 62,
   "metadata": {},
   "outputs": [
    {
     "name": "stdout",
     "output_type": "stream",
     "text": [
      "<class 'numpy.ndarray'>\n",
      "<class 'list'>\n"
     ]
    }
   ],
   "source": []
  },
  {
   "cell_type": "code",
   "execution_count": 82,
   "metadata": {},
   "outputs": [
    {
     "data": {
      "text/plain": [
       "[<matplotlib.lines.Line2D at 0x2b86c945320>]"
      ]
     },
     "execution_count": 82,
     "metadata": {},
     "output_type": "execute_result"
    },
    {
     "data": {
      "image/png": "[encoded data removed]",
      "text/plain": [
       "<Figure size 432x288 with 1 Axes>"
      ]
     },
     "metadata": {
      "needs_background": "light"
     },
     "output_type": "display_data"
    }
   ],
   "source": []
  },
  {
   "cell_type": "code",
   "execution_count": 81,
   "metadata": {},
   "outputs": [
    {
     "data": {
      "text/plain": [
       "range"
      ]
     },
     "execution_count": 81,
     "metadata": {},
     "output_type": "execute_result"
    }
   ],
   "source": [
    "type(depth)"
   ]
  },
  {
   "cell_type": "code",
   "execution_count": null,
   "metadata": {},
   "outputs": [],
   "source": []
  }
 ],
 "metadata": {
  "kernelspec": {
   "display_name": "Python 3",
   "language": "python",
   "name": "python3"
  },
  "language_info": {
   "codemirror_mode": {
    "name": "ipython",
    "version": 3
   },
   "file_extension": ".py",
   "mimetype": "text/x-python",
   "name": "python",
   "nbconvert_exporter": "python",
   "pygments_lexer": "ipython3",
   "version": "3.7.3"
  }
 },
 "nbformat": 4,
 "nbformat_minor": 2
}
